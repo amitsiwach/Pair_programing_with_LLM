{
  "nbformat": 4,
  "nbformat_minor": 0,
  "metadata": {
    "colab": {
      "provenance": [],
      "authorship_tag": "ABX9TyMJ2tintTWVU9Jm6Y7Nq8b3",
      "include_colab_link": true
    },
    "kernelspec": {
      "name": "python3",
      "display_name": "Python 3"
    },
    "language_info": {
      "name": "python"
    }
  },
  "cells": [
    {
      "cell_type": "markdown",
      "metadata": {
        "id": "view-in-github",
        "colab_type": "text"
      },
      "source": [
        "<a href=\"https://colab.research.google.com/github/amitsiwach/Pair_programing_with_LLM/blob/main/Pair_programming_Scenerios_%26_Technial_Debt.ipynb\" target=\"_parent\"><img src=\"https://colab.research.google.com/assets/colab-badge.svg\" alt=\"Open In Colab\"/></a>"
      ]
    },
    {
      "cell_type": "code",
      "execution_count": 6,
      "metadata": {
        "id": "35-Wi4Sc2tk1"
      },
      "outputs": [],
      "source": [
        "!pip install -q google.generativeai"
      ]
    },
    {
      "cell_type": "code",
      "source": [
        "import os\n",
        "import google.generativeai as palm\n",
        "from google.api_core import client_options as client_options_lib\n",
        "\n",
        "palm.configure(\n",
        "    api_key='', ## Enter your API key here\n",
        "    transport=\"rest\",\n",
        "    client_options=client_options_lib.ClientOptions(\n",
        "        api_endpoint=os.getenv(\"GOOGLE_API_BASE\"),\n",
        "    )\n",
        ")"
      ],
      "metadata": {
        "id": "MFJJuLJt25PK"
      },
      "execution_count": 7,
      "outputs": []
    },
    {
      "cell_type": "markdown",
      "source": [
        "#### Pick the model that generates text\n"
      ],
      "metadata": {
        "id": "0sc12JpArd1i"
      }
    },
    {
      "cell_type": "code",
      "source": [
        "models = [m for m in palm.list_models() if 'generateText' in m.supported_generation_methods]\n",
        "model_bison = models[0]\n",
        "model_bison"
      ],
      "metadata": {
        "colab": {
          "base_uri": "https://localhost:8080/"
        },
        "id": "vm4XmZ9Hreo1",
        "outputId": "0214c015-cb2f-4e18-cbf0-03698498486c"
      },
      "execution_count": 8,
      "outputs": [
        {
          "output_type": "execute_result",
          "data": {
            "text/plain": [
              "Model(name='models/text-bison-001', base_model_id='', version='001', display_name='Text Bison', description='Model targeted for text generation.', input_token_limit=8196, output_token_limit=1024, supported_generation_methods=['generateText', 'countTextTokens', 'createTunedTextModel'], temperature=0.7, top_p=0.95, top_k=40)"
            ]
          },
          "metadata": {},
          "execution_count": 8
        }
      ]
    },
    {
      "cell_type": "markdown",
      "source": [
        "#### Helper function to call the PaLM API"
      ],
      "metadata": {
        "id": "SamFGfGDrpy_"
      }
    },
    {
      "cell_type": "code",
      "source": [
        "from google.api_core import retry\n",
        "@retry.Retry()\n",
        "def generate_text(prompt,\n",
        "                  model=model_bison,\n",
        "                  temperature=0.0):\n",
        "    return palm.generate_text(prompt=prompt,\n",
        "                              model=model,\n",
        "                              temperature=temperature)"
      ],
      "metadata": {
        "id": "CShA5QOfrsa3"
      },
      "execution_count": 9,
      "outputs": []
    },
    {
      "cell_type": "markdown",
      "source": [
        "### Scenario 1: Improve existing code\n",
        "- An LLM can help you rewrite your code in the way that's recommended for that particular language.\n",
        "- You can ask an LLM to rewrite your Python code in a way that is more 'Pythonic\"."
      ],
      "metadata": {
        "id": "GIzKeSnHL0Xo"
      }
    },
    {
      "cell_type": "code",
      "source": [
        "prompt_template = \"\"\"\n",
        "I don't think this code is the best way to do it in Python, can you help me?\n",
        "\n",
        "{question}\n",
        "\n",
        "Please explain, in detail, what you did to improve it.\n",
        "\"\"\""
      ],
      "metadata": {
        "id": "w_iyXz4SL2WG"
      },
      "execution_count": 10,
      "outputs": []
    },
    {
      "cell_type": "code",
      "source": [
        "question = \"\"\"\n",
        "def func_x(array)\n",
        "  for i in range(len(array)):\n",
        "    print(array[i])\n",
        "\"\"\""
      ],
      "metadata": {
        "id": "cIUmVq7rL7Pn"
      },
      "execution_count": 11,
      "outputs": []
    },
    {
      "cell_type": "code",
      "source": [
        "completion = generate_text(\n",
        "    prompt = prompt_template.format(question=question)\n",
        ")\n",
        "print(completion.result)"
      ],
      "metadata": {
        "colab": {
          "base_uri": "https://localhost:8080/"
        },
        "id": "qtWJOs_qL-2m",
        "outputId": "0c7355ae-8539-49c7-df68-04223058815f"
      },
      "execution_count": 12,
      "outputs": [
        {
          "output_type": "stream",
          "name": "stdout",
          "text": [
            "```python\n",
            "def func_x(array):\n",
            "  print(*array)\n",
            "```\n",
            "\n",
            "I improved the code by using the `*` operator to unpack the array into individual arguments for the `print()` function. This is more concise and efficient than using a `for` loop.\n"
          ]
        }
      ]
    },
    {
      "cell_type": "markdown",
      "source": [
        "#### Ask for multiple ways of rewriting your code"
      ],
      "metadata": {
        "id": "XtimK7AHMLdQ"
      }
    },
    {
      "cell_type": "code",
      "source": [
        "prompt_template = \"\"\"\n",
        "I don't think this code is the best way to do it in Python, can you help me?\n",
        "\n",
        "{question}\n",
        "\n",
        "Please explore multiple ways of solving the problem, and explain each.\n",
        "\"\"\""
      ],
      "metadata": {
        "id": "mwoEIR0lMEcr"
      },
      "execution_count": 13,
      "outputs": []
    },
    {
      "cell_type": "code",
      "source": [
        "completion = generate_text(\n",
        "    prompt = prompt_template.format(question=question)\n",
        ")\n",
        "print(completion.result)"
      ],
      "metadata": {
        "colab": {
          "base_uri": "https://localhost:8080/"
        },
        "id": "YVKS_OZtMOr7",
        "outputId": "7e0fe213-b58d-4d3c-926f-c0dab7ec9bbd"
      },
      "execution_count": 14,
      "outputs": [
        {
          "output_type": "stream",
          "name": "stdout",
          "text": [
            "There are a few ways to improve the code.\n",
            "\n",
            "1. **Use a list comprehension**. This will allow you to iterate over the array and print each element in a single line of code.\n",
            "\n",
            "```python\n",
            "def func_x(array):\n",
            "  print([element for element in array])\n",
            "```\n",
            "\n",
            "2. **Use the `enumerate()` function**. This function returns an iterator that yields the index and value of each element in the array. You can use this to print each element in the array with its index.\n",
            "\n",
            "```python\n",
            "def func_x(array):\n",
            "  for i, element in enumerate(array):\n",
            "    print(f\"{i}: {element}\")\n",
            "```\n",
            "\n",
            "3. **Use the `map()` function**. This function applies a function to each element in an iterable. You can use this to print each element in the array with a custom formatting.\n",
            "\n",
            "```python\n",
            "def func_x(array):\n",
            "  print(map(str, array))\n",
            "```\n",
            "\n",
            "Here is a table comparing the three methods:\n",
            "\n",
            "| Method | Pros | Cons |\n",
            "|---|---|---|\n",
            "| List comprehension | Concise | Can be difficult to read for complex code |\n",
            "| `enumerate()` | Easy to read | Requires an extra variable to store the index |\n",
            "| `map()` | Flexible | Requires a custom function to format the output |\n",
            "\n",
            "Ultimately, the best way to solve the problem depends on the specific requirements of your code. If you need a concise solution, the list comprehension is a good option. If you need a solution that is easy to read, the `enumerate()` function is a good option. If you need a solution that is flexible, the `map()` function is a good option.\n"
          ]
        }
      ]
    },
    {
      "cell_type": "markdown",
      "source": [
        "Here is a table comparing the three methods:\n",
        "\n",
        "| Method | Pros | Cons |\n",
        "|---|---|---|\n",
        "| List comprehension | Concise | Can be difficult to read for complex code |\n",
        "| `enumerate()` | Easy to read | Requires an extra variable to store the index |\n",
        "| `map()` | Flexible | Requires a custom function to format the output |\n",
        "\n",
        "Ultimately, the best way to solve the problem depends on the specific requirements of your code. If you need a concise solution, the list comprehension is a good option. If you need a solution that is easy to read, the `enumerate()` function is a good option. If you need a solution that is flexible, the `map()` function is a good option."
      ],
      "metadata": {
        "id": "LHL1HskfMfSD"
      }
    },
    {
      "cell_type": "markdown",
      "source": [
        "#### Ask the model to recommend one of the methods as most 'Pythonic'"
      ],
      "metadata": {
        "id": "652LrAnLMla5"
      }
    },
    {
      "cell_type": "code",
      "source": [
        "prompt_template = \"\"\"\n",
        "I don't think this code is the best way to do it in Python, can you help me?\n",
        "\n",
        "{question}\n",
        "\n",
        "Please explore multiple ways of solving the problem,\n",
        "and tell me which is the most Pythonic\n",
        "\"\"\""
      ],
      "metadata": {
        "id": "bWI-UkOgMgOh"
      },
      "execution_count": 15,
      "outputs": []
    },
    {
      "cell_type": "code",
      "source": [
        "completion = generate_text(\n",
        "    prompt = prompt_template.format(question=question)\n",
        ")\n",
        "print(completion.result)"
      ],
      "metadata": {
        "colab": {
          "base_uri": "https://localhost:8080/"
        },
        "id": "4ejrP8YuMoJl",
        "outputId": "6f031f73-86e6-4184-d7c8-4936383a1456"
      },
      "execution_count": 16,
      "outputs": [
        {
          "output_type": "stream",
          "name": "stdout",
          "text": [
            "There are a few ways to solve this problem in Python. The most Pythonic way would be to use the `list` comprehension syntax. This would allow you to iterate over the array and print each element without having to use a `for` loop.\n",
            "\n",
            "```python\n",
            "def func_x(array):\n",
            "  print([element for element in array])\n",
            "```\n",
            "\n",
            "Another way to solve this problem would be to use the `map` function. This function takes a function and an iterable as arguments and returns a new iterable where each element of the original iterable has been passed through the function.\n",
            "\n",
            "```python\n",
            "def func_x(array):\n",
            "  return map(print, array)\n",
            "```\n",
            "\n",
            "Finally, you could also solve this problem using the `enumerate` function. This function takes an iterable as an argument and returns an iterable of tuples where the first element of each tuple is the index of the element in the original iterable and the second element is the element itself.\n",
            "\n",
            "```python\n",
            "def func_x(array):\n",
            "  for i, element in enumerate(array):\n",
            "    print(i, element)\n",
            "```\n",
            "\n",
            "Of the three solutions, the most Pythonic is the first one, which uses the `list` comprehension syntax. This is because it is the most concise and readable way to solve the problem.\n"
          ]
        }
      ]
    },
    {
      "cell_type": "markdown",
      "source": [
        "### Scenario 2: Simplify code\n",
        "- Ask the LLM to perform a code review.\n",
        "- Note that adding/removing newline characters may affect the LLM completion that gets output by the LLM."
      ],
      "metadata": {
        "id": "szCD6WXUMyhC"
      }
    },
    {
      "cell_type": "code",
      "source": [
        "# option 1\n",
        "prompt_template = \"\"\"\n",
        "Can you please simplify this code for a linked list in Python?\n",
        "\n",
        "{question}\n",
        "\n",
        "Explain in detail what you did to modify it, and why.\n",
        "\"\"\""
      ],
      "metadata": {
        "id": "xSxCjprCMqtF"
      },
      "execution_count": 17,
      "outputs": []
    },
    {
      "cell_type": "code",
      "source": [
        "question = \"\"\"\n",
        "class Node:\n",
        "  def __init__(self, dataval=None):\n",
        "    self.dataval = dataval\n",
        "    self.nextval = None\n",
        "\n",
        "class SLinkedList:\n",
        "  def __init__(self):\n",
        "    self.headval = None\n",
        "\n",
        "list1 = SLinkedList()\n",
        "list1.headval = Node(\"Mon\")\n",
        "e2 = Node(\"Tue\")\n",
        "e3 = Node(\"Wed\")\n",
        "list1.headval.nextval = e2\n",
        "e2.nextval = e3\n",
        "\n",
        "\"\"\""
      ],
      "metadata": {
        "id": "w6CcO0o2M0y8"
      },
      "execution_count": 18,
      "outputs": []
    },
    {
      "cell_type": "code",
      "source": [
        "completion = generate_text(\n",
        "    prompt = prompt_template.format(question=question)\n",
        ")\n",
        "print(completion.result)"
      ],
      "metadata": {
        "colab": {
          "base_uri": "https://localhost:8080/"
        },
        "id": "1m7xBg4qM_bL",
        "outputId": "de9cb1a7-21c6-4885-9e0b-71ef2359df4d"
      },
      "execution_count": 19,
      "outputs": [
        {
          "output_type": "stream",
          "name": "stdout",
          "text": [
            "```python\n",
            "class Node:\n",
            "    def __init__(self, data=None):\n",
            "        self.data = data\n",
            "        self.next = None\n",
            "\n",
            "\n",
            "class SLinkedList:\n",
            "    def __init__(self):\n",
            "        self.head = None\n",
            "\n",
            "\n",
            "def create_linked_list(data):\n",
            "    head = Node(data[0])\n",
            "    current = head\n",
            "    for data in data[1:]:\n",
            "        new_node = Node(data)\n",
            "        current.next = new_node\n",
            "        current = new_node\n",
            "    return head\n",
            "\n",
            "\n",
            "list1 = create_linked_list([\"Mon\", \"Tue\", \"Wed\"])\n",
            "```\n",
            "\n",
            "I simplified the code by removing the `dataval` and `nextval` attributes from the `Node` class. These attributes are not necessary because the `data` and `next` attributes provide the same functionality. I also removed the `SLinkedList` class because it is not necessary. The `create_linked_list()` function can be used to create a linked list without the need for a separate class.\n"
          ]
        }
      ]
    },
    {
      "cell_type": "code",
      "source": [
        "# option 2\n",
        "prompt_template = \"\"\"\n",
        "Can you please simplify this code for a linked list in Python? \\n\n",
        "You are an expert in Pythonic code.\n",
        "\n",
        "{question}\n",
        "\n",
        "Please comment each line in detail, \\n\n",
        "and explain in detail what you did to modify it, and why.\n",
        "\"\"\""
      ],
      "metadata": {
        "id": "eLkDrmRrNBUq"
      },
      "execution_count": 20,
      "outputs": []
    },
    {
      "cell_type": "code",
      "source": [
        "question = \"\"\"\n",
        "class Node:\n",
        "  def __init__(self, dataval=None):\n",
        "    self.dataval = dataval\n",
        "    self.nextval = None\n",
        "\n",
        "class SLinkedList:\n",
        "  def __init__(self):\n",
        "    self.headval = None\n",
        "\n",
        "list1 = SLinkedList()\n",
        "list1.headval = Node(\"Mon\")\n",
        "e2 = Node(\"Tue\")\n",
        "e3 = Node(\"Wed\")\n",
        "list1.headval.nextval = e2\n",
        "e2.nextval = e3\n",
        "\n",
        "\"\"\""
      ],
      "metadata": {
        "id": "tXJuamdTNMdD"
      },
      "execution_count": 21,
      "outputs": []
    },
    {
      "cell_type": "code",
      "source": [
        "completion = generate_text(\n",
        "    prompt = prompt_template.format(question=question)\n",
        ")\n",
        "print(completion.result)"
      ],
      "metadata": {
        "colab": {
          "base_uri": "https://localhost:8080/"
        },
        "id": "XCcdKtW_NPHJ",
        "outputId": "ef8768b4-7609-435a-a063-c23a4c90b8c8"
      },
      "execution_count": 22,
      "outputs": [
        {
          "output_type": "stream",
          "name": "stdout",
          "text": [
            "```python\n",
            "class Node:\n",
            "    \"\"\"Node class for a singly linked list.\"\"\"\n",
            "\n",
            "    def __init__(self, dataval=None):\n",
            "        \"\"\"Initialize the node with the given data value.\"\"\"\n",
            "        self.dataval = dataval\n",
            "        self.nextval = None\n",
            "\n",
            "\n",
            "class SLinkedList:\n",
            "    \"\"\"Singly linked list class.\"\"\"\n",
            "\n",
            "    def __init__(self):\n",
            "        \"\"\"Initialize the linked list with no nodes.\"\"\"\n",
            "        self.headval = None\n",
            "\n",
            "\n",
            "def create_linked_list(data_list):\n",
            "    \"\"\"Create a linked list from the given list of data values.\"\"\"\n",
            "    # Create a linked list node for each data value in the list.\n",
            "    for dataval in data_list:\n",
            "        new_node = Node(dataval)\n",
            "        # Insert the new node at the head of the linked list.\n",
            "        new_node.nextval = self.headval\n",
            "        self.headval = new_node\n",
            "\n",
            "\n",
            "def print_linked_list(self):\n",
            "    \"\"\"Print the data values in the linked list in order.\"\"\"\n",
            "    # Create a temporary node pointer to traverse the linked list.\n",
            "    temp_node = self.headval\n",
            "    # Print the data value of each node in the linked list.\n",
            "    while temp_node is not None:\n",
            "        print(temp_node.dataval)\n",
            "        # Move to the next node in the linked list.\n",
            "        temp_node = temp_node.nextval\n",
            "\n",
            "\n",
            "if __name__ == \"__main__\":\n",
            "    # Create a linked list with the data values \"Mon\", \"Tue\", and \"Wed\".\n",
            "    data_list = [\"Mon\", \"Tue\", \"Wed\"]\n",
            "    list1 = SLinkedList()\n",
            "    create_linked_list(data_list)\n",
            "\n",
            "    # Print the data values in the linked list.\n",
            "    print_linked_list(list1)\n",
            "```\n",
            "\n",
            "**Explanation:**\n",
            "\n",
            "I simplified the code by removing the unnecessary `self` parameters from the `Node` and `SLinkedList` class constructors. I also removed the `dataval` parameter from the `Node` class constructor, since it is not needed.\n",
            "\n",
            "I also simplified the `create_linked_list()` function by removing the `dataval` parameter from the `Node` constructor call. I also changed the loop condition to `while temp_node is not None`, instead of `while temp_node != None`.\n",
            "\n",
            "Finally, I simplified the `print_linked_list()` function by removing the `self` parameter from the function call.\n",
            "\n",
            "These changes make the code more concise and easier to read.\n"
          ]
        }
      ]
    },
    {
      "cell_type": "markdown",
      "source": [
        "### Scenario 3: Write test cases\n",
        "\n",
        "- It may help to specify that you want the LLM to output \"in code\" to encourage it to write unit tests instead of just returning test cases in English."
      ],
      "metadata": {
        "id": "x7B3KRRcNekg"
      }
    },
    {
      "cell_type": "code",
      "source": [
        "prompt_template = \"\"\"\n",
        "Can you please create test cases in code for this Python code?\n",
        "\n",
        "{question}\n",
        "\n",
        "Explain in detail what these test cases are designed to achieve.\n",
        "\"\"\""
      ],
      "metadata": {
        "id": "bCfwXhVtNQ0a"
      },
      "execution_count": 23,
      "outputs": []
    },
    {
      "cell_type": "code",
      "source": [
        "# Note that the code I'm using here was output in the previous\n",
        "# section. Your output code may be different.\n",
        "question = \"\"\"\n",
        "class Node:\n",
        "  def __init__(self, dataval=None):\n",
        "    self.dataval = dataval\n",
        "    self.nextval = None\n",
        "\n",
        "class SLinkedList:\n",
        "  def __init__(self):\n",
        "    self.head = None\n",
        "\n",
        "def create_linked_list(data):\n",
        "  head = Node(data[0])\n",
        "  for i in range(1, len(data)):\n",
        "    node = Node(data[i])\n",
        "    node.nextval = head\n",
        "    head = node\n",
        "  return head\n",
        "\n",
        "list1 = create_linked_list([\"Mon\", \"Tue\", \"Wed\"])\n",
        "\"\"\""
      ],
      "metadata": {
        "id": "7O9nAfNINhZr"
      },
      "execution_count": 24,
      "outputs": []
    },
    {
      "cell_type": "code",
      "source": [
        "completion = generate_text(\n",
        "    prompt = prompt_template.format(question=question)\n",
        ")\n",
        "print(completion.result)"
      ],
      "metadata": {
        "colab": {
          "base_uri": "https://localhost:8080/"
        },
        "id": "xSmaRRFtNmZl",
        "outputId": "d888ef9b-21ed-4b25-e55c-0be9e97bd997"
      },
      "execution_count": 25,
      "outputs": [
        {
          "output_type": "stream",
          "name": "stdout",
          "text": [
            "```python\n",
            "import unittest\n",
            "\n",
            "class TestSLinkedList(unittest.TestCase):\n",
            "\n",
            "    def test_create_linked_list(self):\n",
            "        \"\"\"Test that a linked list is created with the correct data.\"\"\"\n",
            "        data = [\"Mon\", \"Tue\", \"Wed\"]\n",
            "        head = create_linked_list(data)\n",
            "        self.assertEqual(head.dataval, \"Mon\")\n",
            "        self.assertEqual(head.nextval.dataval, \"Tue\")\n",
            "        self.assertEqual(head.nextval.nextval.dataval, \"Wed\")\n",
            "\n",
            "    def test_insert_into_linked_list(self):\n",
            "        \"\"\"Test that a new node can be inserted into a linked list.\"\"\"\n",
            "        data = [\"Mon\", \"Tue\", \"Wed\"]\n",
            "        head = create_linked_list(data)\n",
            "        new_node = Node(\"Thu\")\n",
            "        new_node.nextval = head.nextval\n",
            "        head.nextval = new_node\n",
            "        self.assertEqual(head.nextval.dataval, \"Thu\")\n",
            "        self.assertEqual(head.nextval.nextval.dataval, \"Tue\")\n",
            "\n",
            "    def test_delete_from_linked_list(self):\n",
            "        \"\"\"Test that a node can be deleted from a linked list.\"\"\"\n",
            "        data = [\"Mon\", \"Tue\", \"Wed\"]\n",
            "        head = create_linked_list(data)\n",
            "        del_node = head.nextval\n",
            "        head.nextval = del_node.nextval\n",
            "        self.assertEqual(head.nextval.dataval, \"Wed\")\n",
            "        self.assertIsNone(del_node.nextval)\n",
            "\n",
            "if __name__ == \"__main__\":\n",
            "    unittest.main()\n",
            "```\n",
            "\n",
            "The test cases are designed to achieve the following:\n",
            "\n",
            "* Test that a linked list is created with the correct data.\n",
            "* Test that a new node can be inserted into a linked list.\n",
            "* Test that a node can be deleted from a linked list.\n"
          ]
        }
      ]
    },
    {
      "cell_type": "markdown",
      "source": [
        "### Scenario 4: Make code more efficient\n",
        "- Improve runtime by potentially avoiding inefficient methods (such as ones that use recursion when not needed)."
      ],
      "metadata": {
        "id": "2kt9kA_5NzUI"
      }
    },
    {
      "cell_type": "code",
      "source": [
        "prompt_template = \"\"\"\n",
        "Can you please make this code more efficient?\n",
        "\n",
        "{question}\n",
        "\n",
        "Explain in detail what you changed and why.\n",
        "\"\"\""
      ],
      "metadata": {
        "id": "UEtEhu-KN0dh"
      },
      "execution_count": 26,
      "outputs": []
    },
    {
      "cell_type": "code",
      "source": [
        "question = \"\"\"\n",
        "# Returns index of x in arr if present, else -1\n",
        "def binary_search(arr, low, high, x):\n",
        "    # Check base case\n",
        "    if high >= low:\n",
        "        mid = (high + low) // 2\n",
        "        if arr[mid] == x:\n",
        "            return mid\n",
        "        elif arr[mid] > x:\n",
        "            return binary_search(arr, low, mid - 1, x)\n",
        "        else:\n",
        "            return binary_search(arr, mid + 1, high, x)\n",
        "    else:\n",
        "        return -1\n",
        "\n",
        "# Test array\n",
        "arr = [ 2, 3, 4, 10, 40 ]\n",
        "x = 10\n",
        "\n",
        "# Function call\n",
        "result = binary_search(arr, 0, len(arr)-1, x)\n",
        "\n",
        "if result != -1:\n",
        "    print(\"Element is present at index\", str(result))\n",
        "else:\n",
        "    print(\"Element is not present in array\")\n",
        "\n",
        "\"\"\""
      ],
      "metadata": {
        "id": "sxwgr5ahN7V7"
      },
      "execution_count": 27,
      "outputs": []
    },
    {
      "cell_type": "code",
      "source": [
        "completion = generate_text(\n",
        "    prompt = prompt_template.format(question=question)\n",
        ")\n",
        "print(completion.result)"
      ],
      "metadata": {
        "colab": {
          "base_uri": "https://localhost:8080/"
        },
        "id": "eoN5_jdjN_Es",
        "outputId": "b5031c7c-7ed3-4fe6-ee35-39befa632e07"
      },
      "execution_count": 28,
      "outputs": [
        {
          "output_type": "stream",
          "name": "stdout",
          "text": [
            "I made the following changes to the code to make it more efficient:\n",
            "\n",
            "* I used the `bisect` function to find the index of the middle element of the array. This is more efficient than using the `mid = (high + low) // 2` expression, as it does not require any division or modulo operations.\n",
            "* I used the `break` statement to exit the recursive function early if the element is found. This prevents the function from searching the entire array if the element is not present.\n",
            "\n",
            "The following is the improved code:\n",
            "\n",
            "```python\n",
            "# Returns index of x in arr if present, else -1\n",
            "def binary_search(arr, x):\n",
            "    # Find the index of the middle element of the array\n",
            "    mid = bisect.bisect_left(arr, x)\n",
            "\n",
            "    # Check if the element is found\n",
            "    if mid < len(arr) and arr[mid] == x:\n",
            "        return mid\n",
            "    else:\n",
            "        return -1\n",
            "\n",
            "# Test array\n",
            "arr = [ 2, 3, 4, 10, 40 ]\n",
            "x = 10\n",
            "\n",
            "# Function call\n",
            "result = binary_search(arr, x)\n",
            "\n",
            "if result != -1:\n",
            "    print(\"Element is present at index\", str(result))\n",
            "else:\n",
            "    print(\"Element is not present in array\")\n",
            "```\n",
            "\n",
            "This code is significantly faster than the original code, as it does not perform any unnecessary calculations.\n"
          ]
        }
      ]
    },
    {
      "cell_type": "code",
      "source": [
        "# Paste the LLM-generated code to inspect and debug it\n",
        "import bisect\n",
        "\n",
        "# Returns index of x in arr if present, else -1\n",
        "def binary_search(arr, x):\n",
        "    # Find the index of the middle element of the array\n",
        "    mid = bisect.bisect_left(arr, x)\n",
        "\n",
        "    # Check if the element is found\n",
        "    if mid < len(arr) and arr[mid] == x:\n",
        "        return mid\n",
        "    else:\n",
        "        return -1\n",
        "\n",
        "# Test array\n",
        "arr = [ 2, 3, 4, 10, 40 ]\n",
        "x = 10\n",
        "\n",
        "# Function call\n",
        "result = binary_search(arr, x)\n",
        "\n",
        "if result != -1:\n",
        "    print(\"Element is present at index\", str(result))\n",
        "else:\n",
        "    print(\"Element is not present in array\")"
      ],
      "metadata": {
        "colab": {
          "base_uri": "https://localhost:8080/"
        },
        "id": "RjzB-ya0OBrT",
        "outputId": "7f624a95-0233-4ef7-f5fa-17d4b9dc6923"
      },
      "execution_count": 30,
      "outputs": [
        {
          "output_type": "stream",
          "name": "stdout",
          "text": [
            "Element is present at index 3\n"
          ]
        }
      ]
    },
    {
      "cell_type": "markdown",
      "source": [
        "### Scenario 5: Debug your code"
      ],
      "metadata": {
        "id": "w85ttZAEO2-g"
      }
    },
    {
      "cell_type": "code",
      "source": [
        "prompt_template = \"\"\"\n",
        "Can you please help me to debug this code?\n",
        "\n",
        "{question}\n",
        "\n",
        "Explain in detail what you found and why it was a bug.\n",
        "\"\"\""
      ],
      "metadata": {
        "id": "BPNJduJnOx-r"
      },
      "execution_count": 31,
      "outputs": []
    },
    {
      "cell_type": "code",
      "source": [
        "# I deliberately introduced a bug into this code! Let's see if the LLM can find it.\n",
        "# Note -- the model can't see this comment -- but the bug is in the\n",
        "# print function. There's a circumstance where nodes can be null, and trying\n",
        "# to print them would give a null error.\n",
        "question = \"\"\"\n",
        "class Node:\n",
        "   def __init__(self, data):\n",
        "      self.data = data\n",
        "      self.next = None\n",
        "      self.prev = None\n",
        "\n",
        "class doubly_linked_list:\n",
        "   def __init__(self):\n",
        "      self.head = None\n",
        "\n",
        "# Adding data elements\n",
        "   def push(self, NewVal):\n",
        "      NewNode = Node(NewVal)\n",
        "      NewNode.next = self.head\n",
        "      if self.head is not None:\n",
        "         self.head.prev = NewNode\n",
        "      self.head = NewNode\n",
        "\n",
        "# Print the Doubly Linked list in order\n",
        "   def listprint(self, node):\n",
        "       print(node.data),\n",
        "       last = node\n",
        "       node = node.next\n",
        "\n",
        "dllist = doubly_linked_list()\n",
        "dllist.push(12)\n",
        "dllist.push(8)\n",
        "dllist.push(62)\n",
        "dllist.listprint(dllist.head)\n",
        "\n",
        "\"\"\""
      ],
      "metadata": {
        "id": "F3OS50U0O4z1"
      },
      "execution_count": 32,
      "outputs": []
    },
    {
      "cell_type": "markdown",
      "source": [
        "Notice in this case that we are using the default temperature of `0.7` to generate the example that you're seeing in the lecture video.  \n",
        "- Since a temperature > 0 encourages more randomness in the LLM output, you may want to run this code a couple times to see what it outputs."
      ],
      "metadata": {
        "id": "MMVT053tPID0"
      }
    },
    {
      "cell_type": "code",
      "source": [
        "completion = generate_text(\n",
        "    prompt = prompt_template.format(question=question),\n",
        "    temperature = 0.7\n",
        ")\n",
        "print(completion.result)"
      ],
      "metadata": {
        "colab": {
          "base_uri": "https://localhost:8080/"
        },
        "id": "gw1ja4eQPFqM",
        "outputId": "014ce530-a652-418d-825d-0c349dc70597"
      },
      "execution_count": 36,
      "outputs": [
        {
          "output_type": "stream",
          "name": "stdout",
          "text": [
            "The bug is in the `listprint` function. The `last` variable is not being initialized before it is used. This means that the first time the function is called, `last` will be `None`, and the `print()` statement will attempt to print the value of `None`, which will cause an error.\n",
            "\n",
            "To fix this bug, simply initialize the `last` variable to `None` before the loop starts.\n",
            "\n",
            "```\n",
            "def listprint(self, node):\n",
            "    last = None\n",
            "    print(node.data)\n",
            "    last = node\n",
            "    node = node.next\n",
            "```\n"
          ]
        }
      ]
    },
    {
      "cell_type": "markdown",
      "source": [
        "# Lesson 4: Technical Debt"
      ],
      "metadata": {
        "id": "LRE4wmd-Toi3"
      }
    },
    {
      "cell_type": "markdown",
      "source": [
        "### Ask an LLM to explain a complex code base"
      ],
      "metadata": {
        "id": "jnovZpMOT1Se"
      }
    },
    {
      "cell_type": "code",
      "source": [
        "from google.api_core import retry\n",
        "@retry.Retry()\n",
        "def generate_text(prompt,\n",
        "                  model=model_bison,\n",
        "                  temperature=0.0):\n",
        "    return palm.generate_text(prompt=prompt,\n",
        "                              model=model,\n",
        "                              temperature=temperature)"
      ],
      "metadata": {
        "id": "OzXcOozDT6Oa"
      },
      "execution_count": 37,
      "outputs": []
    },
    {
      "cell_type": "code",
      "source": [
        "#@title Complex Code Block\n",
        "# Note: Taken from https://github.com/lmoroney/odmlbook/blob/63c0825094b2f44efc5c4d3226425a51990e73d6/BookSource/Chapter08/ios/cats_vs_dogs/CatVsDogClassifierSample/ModelDataHandler/ModelDataHandler.swift\n",
        "CODE_BLOCK = \"\"\"\n",
        "// Copyright 2019 The TensorFlow Authors. All Rights Reserved.\n",
        "//\n",
        "// Licensed under the Apache License, Version 2.0 (the \"License\");\n",
        "// you may not use this file except in compliance with the License.\n",
        "// You may obtain a copy of the License at\n",
        "//\n",
        "//    http://www.apache.org/licenses/LICENSE-2.0\n",
        "//\n",
        "// Unless required by applicable law or agreed to in writing, software\n",
        "// distributed under the License is distributed on an \"AS IS\" BASIS,\n",
        "// WITHOUT WARRANTIES OR CONDITIONS OF ANY KIND, either express or implied.\n",
        "// See the License for the specific language governing permissions and\n",
        "// limitations under the License.\n",
        "\n",
        "import CoreImage\n",
        "import TensorFlowLite\n",
        "import UIKit\n",
        "\n",
        "\n",
        "/// An inference from invoking the `Interpreter`.\n",
        "struct Inference {\n",
        "  let confidence: Float\n",
        "  let label: String\n",
        "}\n",
        "\n",
        "/// Information about a model file or labels file.\n",
        "typealias FileInfo = (name: String, extension: String)\n",
        "\n",
        "/// Information about the MobileNet model.\n",
        "enum MobileNet {\n",
        "  static let modelInfo: FileInfo = (name: \"converted_model\", extension: \"tflite\")\n",
        "}\n",
        "\n",
        "/// This class handles all data preprocessing and makes calls to run inference on a given frame\n",
        "/// by invoking the `Interpreter`. It then formats the inferences obtained and returns the top N\n",
        "/// results for a successful inference.\n",
        "class ModelDataHandler {\n",
        "\n",
        "  // MARK: - Public Properties\n",
        "\n",
        "  /// The current thread count used by the TensorFlow Lite Interpreter.\n",
        "  let threadCount: Int\n",
        "\n",
        "  let resultCount = 1\n",
        "\n",
        "  // MARK: - Model Parameters\n",
        "\n",
        "  let batchSize = 1\n",
        "  let inputChannels = 3\n",
        "  let inputWidth = 224\n",
        "  let inputHeight = 224\n",
        "\n",
        "  // MARK: - Private Properties\n",
        "\n",
        "  /// List of labels from the given labels file.\n",
        "  private var labels: [String] = [\"Cat\", \"Dog\"]\n",
        "\n",
        "  /// TensorFlow Lite `Interpreter` object for performing inference on a given model.\n",
        "  private var interpreter: Interpreter\n",
        "\n",
        "  /// Information about the alpha component in RGBA data.\n",
        "  private let alphaComponent = (baseOffset: 4, moduloRemainder: 3)\n",
        "\n",
        "  // MARK: - Initialization\n",
        "\n",
        "  /// A failable initializer for `ModelDataHandler`. A new instance is created if the model and\n",
        "  /// labels files are successfully loaded from the app's main bundle. Default `threadCount` is 1.\n",
        "  init?(modelFileInfo: FileInfo, threadCount: Int = 1) {\n",
        "    let modelFilename = modelFileInfo.name\n",
        "\n",
        "    // Construct the path to the model file.\n",
        "    guard let modelPath = Bundle.main.path(\n",
        "      forResource: modelFilename,\n",
        "      ofType: modelFileInfo.extension\n",
        "      ) else {\n",
        "        print(\"Failed to load the model file with name: \\(modelFilename).\")\n",
        "        return nil\n",
        "    }\n",
        "\n",
        "    // Specify the options for the `Interpreter`.\n",
        "    self.threadCount = threadCount\n",
        "    var options = InterpreterOptions()\n",
        "    options.threadCount = threadCount\n",
        "    do {\n",
        "      // Create the `Interpreter`.\n",
        "      interpreter = try Interpreter(modelPath: modelPath, options: options)\n",
        "    } catch let error {\n",
        "      print(\"Failed to create the interpreter with error: \\(error.localizedDescription)\")\n",
        "      return nil\n",
        "    }\n",
        "\n",
        "  }\n",
        "\n",
        "  // MARK: - Public Methods\n",
        "\n",
        "  /// Performs image preprocessing, invokes the `Interpreter`, and process the inference results.\n",
        "  func runModel(onFrame pixelBuffer: CVPixelBuffer) -> [Inference]? {\n",
        "    let sourcePixelFormat = CVPixelBufferGetPixelFormatType(pixelBuffer)\n",
        "    assert(sourcePixelFormat == kCVPixelFormatType_32ARGB ||\n",
        "      sourcePixelFormat == kCVPixelFormatType_32BGRA ||\n",
        "      sourcePixelFormat == kCVPixelFormatType_32RGBA)\n",
        "\n",
        "\n",
        "    let imageChannels = 4\n",
        "    assert(imageChannels >= inputChannels)\n",
        "\n",
        "    // Crops the image to the biggest square in the center and scales it down to model dimensions.\n",
        "    let scaledSize = CGSize(width: inputWidth, height: inputHeight)\n",
        "    guard let thumbnailPixelBuffer = pixelBuffer.centerThumbnail(ofSize: scaledSize) else {\n",
        "      return nil\n",
        "    }\n",
        "\n",
        "    let outputTensor: Tensor\n",
        "    do {\n",
        "      // Allocate memory for the model's input `Tensor`s.\n",
        "      try interpreter.allocateTensors()\n",
        "\n",
        "      // Remove the alpha component from the image buffer to get the RGB data.\n",
        "      guard let rgbData = rgbDataFromBuffer(\n",
        "        thumbnailPixelBuffer,\n",
        "        byteCount: batchSize * inputWidth * inputHeight * inputChannels\n",
        "        ) else {\n",
        "          print(\"Failed to convert the image buffer to RGB data.\")\n",
        "          return nil\n",
        "      }\n",
        "\n",
        "      // Copy the RGB data to the input `Tensor`.\n",
        "      try interpreter.copy(rgbData, toInputAt: 0)\n",
        "\n",
        "      // Run inference by invoking the `Interpreter`.\n",
        "      try interpreter.invoke()\n",
        "\n",
        "      // Get the output `Tensor` to process the inference results.\n",
        "      outputTensor = try interpreter.output(at: 0)\n",
        "    } catch let error {\n",
        "      print(\"Failed to invoke the interpreter with error: \\(error.localizedDescription)\")\n",
        "      return nil\n",
        "    }\n",
        "\n",
        "    let results = [Float32](unsafeData: outputTensor.data) ?? []\n",
        "\n",
        "    // Process the results.\n",
        "    let topNInferences = getTopN(results: results)\n",
        "\n",
        "    // Return the inference time and inference results.\n",
        "    return topNInferences\n",
        "  }\n",
        "\n",
        "  // MARK: - Private Methods\n",
        "\n",
        "  /// Returns the top N inference results sorted in descending order.\n",
        "  private func getTopN(results: [Float]) -> [Inference] {\n",
        "    // Create a zipped array of tuples [(labelIndex: Int, confidence: Float)].\n",
        "    let zippedResults = zip(labels.indices, results)\n",
        "\n",
        "    // Sort the zipped results by confidence value in descending order.\n",
        "    let sortedResults = zippedResults.sorted { $0.1 > $1.1 }.prefix(resultCount)\n",
        "\n",
        "    // Return the `Inference` results.\n",
        "    return sortedResults.map { result in Inference(confidence: result.1, label: labels[result.0]) }\n",
        "  }\n",
        "\n",
        "  /// Loads the labels from the labels file and stores them in the `labels` property.\n",
        "  private func loadLabels(fileInfo: FileInfo) {\n",
        "    let filename = fileInfo.name\n",
        "    let fileExtension = fileInfo.extension\n",
        "    guard let fileURL = Bundle.main.url(forResource: filename, withExtension: fileExtension) else {\n",
        "      fatalError(\"Labels file not found in bundle. Please add a labels file with name \" +\n",
        "        \"\\(filename).\\(fileExtension) and try again.\")\n",
        "    }\n",
        "    do {\n",
        "      let contents = try String(contentsOf: fileURL, encoding: .utf8)\n",
        "      labels = contents.components(separatedBy: .newlines)\n",
        "    } catch {\n",
        "      fatalError(\"Labels file named \\(filename).\\(fileExtension) cannot be read. Please add a \" +\n",
        "        \"valid labels file and try again.\")\n",
        "    }\n",
        "  }\n",
        "\n",
        "  /// Returns the RGB data representation of the given image buffer with the specified `byteCount`.\n",
        "  ///\n",
        "  /// - Parameters\n",
        "  ///   - buffer: The pixel buffer to convert to RGB data.\n",
        "  ///   - byteCount: The expected byte count for the RGB data calculated using the values that the\n",
        "  ///       model was trained on: `batchSize * imageWidth * imageHeight * componentsCount`.\n",
        "  ///   - isModelQuantized: Whether the model is quantized (i.e. fixed point values rather than\n",
        "  ///       floating point values).\n",
        "  /// - Returns: The RGB data representation of the image buffer or `nil` if the buffer could not be\n",
        "  ///     converted.\n",
        "  private func rgbDataFromBuffer(\n",
        "    _ buffer: CVPixelBuffer,\n",
        "    byteCount: Int\n",
        "    ) -> Data? {\n",
        "    CVPixelBufferLockBaseAddress(buffer, .readOnly)\n",
        "    defer { CVPixelBufferUnlockBaseAddress(buffer, .readOnly) }\n",
        "    guard let mutableRawPointer = CVPixelBufferGetBaseAddress(buffer) else {\n",
        "      return nil\n",
        "    }\n",
        "    let count = CVPixelBufferGetDataSize(buffer)\n",
        "    let bufferData = Data(bytesNoCopy: mutableRawPointer, count: count, deallocator: .none)\n",
        "    var rgbBytes = [Float](repeating: 0, count: byteCount)\n",
        "    var index = 0\n",
        "    for component in bufferData.enumerated() {\n",
        "      let offset = component.offset\n",
        "      let isAlphaComponent = (offset % alphaComponent.baseOffset) == alphaComponent.moduloRemainder\n",
        "      guard !isAlphaComponent else { continue }\n",
        "      rgbBytes[index] = Float(component.element) / 255.0\n",
        "      index += 1\n",
        "    }\n",
        "\n",
        "    return rgbBytes.withUnsafeBufferPointer(Data.init)\n",
        "\n",
        "  }\n",
        "}\n",
        "\n",
        "// MARK: - Extensions\n",
        "\n",
        "extension Data {\n",
        "  /// Creates a new buffer by copying the buffer pointer of the given array.\n",
        "  ///\n",
        "  /// - Warning: The given array's element type `T` must be trivial in that it can be copied bit\n",
        "  ///     for bit with no indirection or reference-counting operations; otherwise, reinterpreting\n",
        "  ///     data from the resulting buffer has undefined behavior.\n",
        "  /// - Parameter array: An array with elements of type `T`.\n",
        "  init<T>(copyingBufferOf array: [T]) {\n",
        "    self = array.withUnsafeBufferPointer(Data.init)\n",
        "  }\n",
        "}\n",
        "\n",
        "extension Array {\n",
        "  /// Creates a new array from the bytes of the given unsafe data.\n",
        "  ///\n",
        "  /// - Warning: The array's `Element` type must be trivial in that it can be copied bit for bit\n",
        "  ///     with no indirection or reference-counting operations; otherwise, copying the raw bytes in\n",
        "  ///     the `unsafeData`'s buffer to a new array returns an unsafe copy.\n",
        "  /// - Note: Returns `nil` if `unsafeData.count` is not a multiple of\n",
        "  ///     `MemoryLayout<Element>.stride`.\n",
        "  /// - Parameter unsafeData: The data containing the bytes to turn into an array.\n",
        "  init?(unsafeData: Data) {\n",
        "\n",
        "    guard unsafeData.count % MemoryLayout<Element>.stride == 0 else { return nil }\n",
        "    #if swift(>=5.0)\n",
        "    self = unsafeData.withUnsafeBytes { .init($0.bindMemory(to: Element.self)) }\n",
        "    #else\n",
        "    self = unsafeData.withUnsafeBytes {\n",
        "      .init(UnsafeBufferPointer<Element>(\n",
        "        start: $0,\n",
        "        count: unsafeData.count / MemoryLayout<Element>.stride\n",
        "      ))\n",
        "    }\n",
        "    #endif  // swift(>=5.0)\n",
        "  }\n",
        "}\n",
        "\"\"\""
      ],
      "metadata": {
        "id": "VLP7nE9FTtGc"
      },
      "execution_count": 38,
      "outputs": []
    },
    {
      "cell_type": "code",
      "source": [
        "prompt_template = \"\"\"\n",
        "Can you please explain how this code works?\n",
        "\n",
        "{question}\n",
        "\n",
        "Use a lot of detail and make it as clear as possible.\n",
        "\"\"\""
      ],
      "metadata": {
        "id": "w3m1iF10UD3J"
      },
      "execution_count": 39,
      "outputs": []
    },
    {
      "cell_type": "code",
      "source": [
        "completion = generate_text(\n",
        "    prompt = prompt_template.format(question=CODE_BLOCK)\n",
        ")\n",
        "print(completion.result)"
      ],
      "metadata": {
        "colab": {
          "base_uri": "https://localhost:8080/"
        },
        "id": "12V0WdqlUHPG",
        "outputId": "0538e1b5-2e72-4187-b957-8c9c4430046e"
      },
      "execution_count": 40,
      "outputs": [
        {
          "output_type": "stream",
          "name": "stdout",
          "text": [
            "The `ModelDataHandler` class is a TensorFlow Lite model handler that loads the MobileNet model and labels files, preprocesses the input image, and invokes the `Interpreter` to run inference. The results are then processed and returned.\n",
            "\n",
            "The `ModelDataHandler` class has the following properties:\n",
            "\n",
            "* `threadCount`: The current thread count used by the TensorFlow Lite Interpreter.\n",
            "* `resultCount`: The number of top results to return.\n",
            "* `batchSize`: The batch size of the input data.\n",
            "* `inputChannels`: The number of input channels.\n",
            "* `inputWidth`: The input width.\n",
            "* `inputHeight`: The input height.\n",
            "* `labels`: A list of labels from the labels file.\n",
            "* `interpreter`: A TensorFlow Lite `Interpreter` object for performing inference on a given model.\n",
            "* `alphaComponent`: Information about the alpha component in RGBA data.\n",
            "\n",
            "The `ModelDataHandler` class has the following initializers:\n",
            "\n",
            "* `init(modelFileInfo: FileInfo, threadCount: Int = 1)`: A failable initializer that creates a new instance of `ModelDataHandler` if the model and labels files are successfully loaded from the app's main bundle. Default `threadCount` is 1.\n",
            "\n",
            "The `ModelDataHandler` class has the following methods:\n",
            "\n",
            "* `runModel(onFrame pixelBuffer: CVPixelBuffer) -> [Inference]?`: Performs image preprocessing, invokes the `Interpreter`, and process the inference results.\n",
            "* `getTopN(results: [Float]) -> [Inference]`: Returns the top N inference results sorted in descending order.\n",
            "* `loadLabels(fileInfo: FileInfo)`: Loads the labels from the labels file and stores them in the `labels` property.\n",
            "* `rgbDataFromBuffer(_ buffer: CVPixelBuffer, byteCount: Int) -> Data?`: Returns the RGB data representation of the given image buffer with the specified `byteCount`.\n",
            "\n",
            "The `ModelDataHandler` class also has two extension methods:\n",
            "\n",
            "* `extension Data`: Creates a new buffer by copying the buffer pointer of the given array.\n",
            "* `extension Array`: Creates a new array from the bytes of the given unsafe data.\n",
            "\n",
            "Here is an example of how to use the `ModelDataHandler` class:\n",
            "\n",
            "```\n",
            "let modelDataHandler = ModelDataHandler(modelFileInfo: MobileNet.modelInfo)\n",
            "let inferenceResults = modelDataHandler.runModel(onFrame: pixelBuffer)\n",
            "```\n",
            "\n",
            "The `inferenceResults` array will contain the top N inference results sorted in descending order.\n"
          ]
        }
      ]
    },
    {
      "cell_type": "code",
      "source": [
        "CODE_BLOCK = \"\"\"\n",
        "# replace this with your own code\n",
        "def foo(a):\n",
        "  b = a + 1\n",
        "  return 2*b\n",
        "\"\"\"\n",
        "\n",
        "prompt_template = \"\"\"\n",
        "Can you please explain how this code works?\n",
        "\n",
        "{question}\n",
        "\n",
        "Use a lot of detail and make it as clear as possible.\n",
        "\"\"\"\n",
        "\n",
        "completion = generate_text(\n",
        "    prompt = prompt_template.format(question=CODE_BLOCK)\n",
        ")\n",
        "print(completion.result)"
      ],
      "metadata": {
        "colab": {
          "base_uri": "https://localhost:8080/"
        },
        "id": "5UH7mBwUUNLB",
        "outputId": "0725244d-0ba4-489e-e184-f8afa07d43c4"
      },
      "execution_count": 41,
      "outputs": [
        {
          "output_type": "stream",
          "name": "stdout",
          "text": [
            "The function `foo` takes an integer `a` as input and returns 2 * (a + 1).\n",
            "\n",
            "The first line of the function, `b = a + 1`, assigns the value of `a` + 1 to the variable `b`.\n",
            "\n",
            "The second line of the function, `return 2 * b`, returns the value of 2 * `b`.\n",
            "\n",
            "When the function is called, the value of `a` is passed as an argument. The function then assigns the value of `a` + 1 to `b` and returns the value of 2 * `b`.\n",
            "\n",
            "For example, if `a` is 5, then the function will first assign the value of 5 + 1 = 6 to `b`. The function will then return the value of 2 * 6 = 12.\n"
          ]
        }
      ]
    },
    {
      "cell_type": "markdown",
      "source": [
        "### Ask an LLM to document a complex code base"
      ],
      "metadata": {
        "id": "gKiDvdMTU3hn"
      }
    },
    {
      "cell_type": "code",
      "source": [
        "prompt_template = \"\"\"\n",
        "Please write technical documentation for this code and \\n\n",
        "make it easy for a non swift developer to understand:\n",
        "\n",
        "{question}\n",
        "\n",
        "Output the results in markdown\n",
        "\"\"\""
      ],
      "metadata": {
        "id": "gRIsBFvhUpry"
      },
      "execution_count": 42,
      "outputs": []
    },
    {
      "cell_type": "code",
      "source": [
        "completion = generate_text(\n",
        "    prompt = prompt_template.format(question=CODE_BLOCK)\n",
        ")\n",
        "print(completion.result)"
      ],
      "metadata": {
        "colab": {
          "base_uri": "https://localhost:8080/"
        },
        "id": "z-B8Pxy5U7Js",
        "outputId": "902580c5-7098-48ce-b9d6-de4ec4dadc95"
      },
      "execution_count": 43,
      "outputs": [
        {
          "output_type": "stream",
          "name": "stdout",
          "text": [
            "## Technical Documentation for `foo()`\n",
            "\n",
            "### Overview\n",
            "\n",
            "The `foo()` function takes an integer `a` as input and returns an integer that is twice the value of `a` plus 1.\n",
            "\n",
            "### Syntax\n",
            "\n",
            "```\n",
            "def foo(a):\n",
            "  b = a + 1\n",
            "  return 2*b\n",
            "```\n",
            "\n",
            "### Parameters\n",
            "\n",
            "* `a`: The integer to be doubled.\n",
            "\n",
            "### Return Value\n",
            "\n",
            "The `foo()` function returns an integer that is twice the value of `a` plus 1.\n",
            "\n",
            "### Examples\n",
            "\n",
            "```\n",
            ">>> foo(5)\n",
            "11\n",
            ">>> foo(10)\n",
            "21\n",
            "```\n",
            "\n",
            "### Notes\n",
            "\n",
            "* The `foo()` function does not perform any error checking. If `a` is not an integer, the function will raise a `TypeError` exception.\n",
            "* The `foo()` function is not thread-safe. If multiple threads call the function simultaneously, the results may be unpredictable.\n",
            "\n",
            "### References\n",
            "\n",
            "* [Python documentation for the `def` keyword](https://docs.python.org/3/reference/compound_stmts.html#def)\n",
            "* [Python documentation for the `return` statement](https://docs.python.org/3/reference/compound_stmts.html#return)\n"
          ]
        }
      ]
    },
    {
      "cell_type": "markdown",
      "source": [
        "### Try it out on your own code!\n",
        "- Notice that we've modified the prompt slightly to refer to Python instead of Swift."
      ],
      "metadata": {
        "id": "L8rQGSw8VGig"
      }
    },
    {
      "cell_type": "code",
      "source": [
        "CODE_BLOCK = \"\"\"\n",
        "# replace this with your own code\n",
        "def foo(a):\n",
        "  b = a + 1\n",
        "  return 2*b\n",
        "\"\"\"\n",
        "\n",
        "prompt_template = \"\"\"\n",
        "Please write technical documentation for this code and \\n\n",
        "make it easy for a non Python developer to understand:\n",
        "\n",
        "{question}\n",
        "\n",
        "Output the results in markdown\n",
        "\"\"\"\n",
        "\n",
        "completion = generate_text(\n",
        "    prompt = prompt_template.format(question=CODE_BLOCK)\n",
        ")\n",
        "print(completion.result)"
      ],
      "metadata": {
        "colab": {
          "base_uri": "https://localhost:8080/"
        },
        "id": "DBabKTmGU_Yk",
        "outputId": "b0f1fb40-d244-4f64-8534-d4c83b35f7b3"
      },
      "execution_count": 44,
      "outputs": [
        {
          "output_type": "stream",
          "name": "stdout",
          "text": [
            "## Technical Documentation for `foo()`\n",
            "\n",
            "### Description\n",
            "\n",
            "The `foo()` function takes an integer `a` as input and returns the value of `2 * (a + 1)`.\n",
            "\n",
            "### Usage\n",
            "\n",
            "```python\n",
            "foo(a)\n",
            "```\n",
            "\n",
            "where `a` is an integer.\n",
            "\n",
            "### Example\n",
            "\n",
            "```python\n",
            ">>> foo(3)\n",
            "10\n",
            "```\n",
            "\n",
            "### Notes\n",
            "\n",
            "* The `foo()` function does not perform any error checking. If `a` is not an integer, the function will raise a `TypeError` exception.\n",
            "* The `foo()` function is not thread-safe. If multiple threads call the function simultaneously, the results may be unpredictable.\n",
            "\n",
            "### References\n",
            "\n",
            "* [Python documentation for the `int` type](https://docs.python.org/3/library/functions.html#int)\n",
            "* [Python documentation for the `TypeError` exception](https://docs.python.org/3/library/exceptions.html#TypeError)\n",
            "* [Python documentation for the `threading` module](https://docs.python.org/3/library/threading.html)\n"
          ]
        }
      ]
    },
    {
      "cell_type": "code",
      "source": [],
      "metadata": {
        "id": "cS-DU-8kVJvi"
      },
      "execution_count": null,
      "outputs": []
    }
  ]
}