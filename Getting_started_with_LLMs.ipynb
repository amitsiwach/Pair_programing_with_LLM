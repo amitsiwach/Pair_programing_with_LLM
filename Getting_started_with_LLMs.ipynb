{
  "nbformat": 4,
  "nbformat_minor": 0,
  "metadata": {
    "colab": {
      "provenance": [],
      "authorship_tag": "ABX9TyNt/u3sEk1vRlxSEt0gLUV4",
      "include_colab_link": true
    },
    "kernelspec": {
      "name": "python3",
      "display_name": "Python 3"
    },
    "language_info": {
      "name": "python"
    }
  },
  "cells": [
    {
      "cell_type": "markdown",
      "metadata": {
        "id": "view-in-github",
        "colab_type": "text"
      },
      "source": [
        "<a href=\"https://colab.research.google.com/github/amitsiwach/Pair_programing_with_LLM/blob/main/Getting_started_with_LLMs.ipynb\" target=\"_parent\"><img src=\"https://colab.research.google.com/assets/colab-badge.svg\" alt=\"Open In Colab\"/></a>"
      ]
    },
    {
      "cell_type": "code",
      "source": [
        "!pip install -q google.generativeai"
      ],
      "metadata": {
        "colab": {
          "base_uri": "https://localhost:8080/"
        },
        "id": "J1jPeXMGFQ_M",
        "outputId": "69cf5a65-fb92-43e6-ad57-ef87db4eafe3"
      },
      "execution_count": 4,
      "outputs": [
        {
          "output_type": "stream",
          "name": "stdout",
          "text": [
            "\u001b[?25l     \u001b[90m━━━━━━━━━━━━━━━━━━━━━━━━━━━━━━━━━━━━━━━━\u001b[0m \u001b[32m0.0/130.6 kB\u001b[0m \u001b[31m?\u001b[0m eta \u001b[36m-:--:--\u001b[0m\r\u001b[2K     \u001b[91m━━━━━━━━━━━━━━━━━━━━━━━━━━━━\u001b[0m\u001b[90m╺\u001b[0m\u001b[90m━━━━━━━━━━━\u001b[0m \u001b[32m92.2/130.6 kB\u001b[0m \u001b[31m2.7 MB/s\u001b[0m eta \u001b[36m0:00:01\u001b[0m\r\u001b[2K     \u001b[90m━━━━━━━━━━━━━━━━━━━━━━━━━━━━━━━━━━━━━━━\u001b[0m \u001b[32m130.6/130.6 kB\u001b[0m \u001b[31m2.7 MB/s\u001b[0m eta \u001b[36m0:00:00\u001b[0m\n",
            "\u001b[?25h\u001b[?25l     \u001b[90m━━━━━━━━━━━━━━━━━━━━━━━━━━━━━━━━━━━━━━━━\u001b[0m \u001b[32m0.0/267.7 kB\u001b[0m \u001b[31m?\u001b[0m eta \u001b[36m-:--:--\u001b[0m\r\u001b[2K     \u001b[90m━━━━━━━━━━━━━━━━━━━━━━━━━━━━━━━━━━━━━━\u001b[0m \u001b[32m267.7/267.7 kB\u001b[0m \u001b[31m11.6 MB/s\u001b[0m eta \u001b[36m0:00:00\u001b[0m\n",
            "\u001b[?25h"
          ]
        }
      ]
    },
    {
      "cell_type": "code",
      "source": [
        "import os\n",
        "import google.generativeai as palm\n",
        "from google.api_core import client_options as client_options_lib\n",
        "\n",
        "palm.configure(\n",
        "    api_key='', ## Enter your API key here\n",
        "    transport=\"rest\",\n",
        "    client_options=client_options_lib.ClientOptions(\n",
        "        api_endpoint=os.getenv(\"GOOGLE_API_BASE\"),\n",
        "    )\n",
        ")"
      ],
      "metadata": {
        "id": "1KLxPl4OFRkr"
      },
      "execution_count": 5,
      "outputs": []
    },
    {
      "cell_type": "code",
      "source": [
        "for m in palm.list_models():\n",
        "    print(f\"name: {m.name}\")\n",
        "    print(f\"description: {m.description}\")\n",
        "    print(f\"generation methods:{m.supported_generation_methods}\\n\")"
      ],
      "metadata": {
        "colab": {
          "base_uri": "https://localhost:8080/"
        },
        "id": "XN0Hx7k5FT1t",
        "outputId": "70f5e2f7-ecb8-455d-c9e7-6e54c05d9e58"
      },
      "execution_count": 6,
      "outputs": [
        {
          "output_type": "stream",
          "name": "stdout",
          "text": [
            "name: models/chat-bison-001\n",
            "description: Chat-optimized generative language model.\n",
            "generation methods:['generateMessage', 'countMessageTokens']\n",
            "\n",
            "name: models/text-bison-001\n",
            "description: Model targeted for text generation.\n",
            "generation methods:['generateText', 'countTextTokens', 'createTunedTextModel']\n",
            "\n",
            "name: models/embedding-gecko-001\n",
            "description: Obtain a distributed representation of a text.\n",
            "generation methods:['embedText']\n",
            "\n"
          ]
        }
      ]
    },
    {
      "cell_type": "markdown",
      "source": [
        "#### Filter models by their supported generation methods\n",
        "- `generateText` is currently recommended for coding-related prompts.\n",
        "- `generateMessage` is optimized for multi-turn chats (dialogues) with an LLM."
      ],
      "metadata": {
        "id": "gcIRCUVnFjzj"
      }
    },
    {
      "cell_type": "code",
      "source": [
        "models = [m for m in palm.list_models()\n",
        "          if 'generateText'\n",
        "          in m.supported_generation_methods]\n",
        "models"
      ],
      "metadata": {
        "colab": {
          "base_uri": "https://localhost:8080/"
        },
        "id": "PhK3Zth1Fk7F",
        "outputId": "61678b12-2a58-448b-b79b-70c4451b72dd"
      },
      "execution_count": 7,
      "outputs": [
        {
          "output_type": "execute_result",
          "data": {
            "text/plain": [
              "[Model(name='models/text-bison-001', base_model_id='', version='001', display_name='Text Bison', description='Model targeted for text generation.', input_token_limit=8196, output_token_limit=1024, supported_generation_methods=['generateText', 'countTextTokens', 'createTunedTextModel'], temperature=0.7, top_p=0.95, top_k=40)]"
            ]
          },
          "metadata": {},
          "execution_count": 7
        }
      ]
    },
    {
      "cell_type": "code",
      "source": [
        "model_bison = models[0]\n",
        "model_bison"
      ],
      "metadata": {
        "colab": {
          "base_uri": "https://localhost:8080/"
        },
        "id": "zGY1QY_2Fq-1",
        "outputId": "1cc9e9e7-38a7-4444-fe5c-2957ebd57df8"
      },
      "execution_count": 8,
      "outputs": [
        {
          "output_type": "execute_result",
          "data": {
            "text/plain": [
              "Model(name='models/text-bison-001', base_model_id='', version='001', display_name='Text Bison', description='Model targeted for text generation.', input_token_limit=8196, output_token_limit=1024, supported_generation_methods=['generateText', 'countTextTokens', 'createTunedTextModel'], temperature=0.7, top_p=0.95, top_k=40)"
            ]
          },
          "metadata": {},
          "execution_count": 8
        }
      ]
    },
    {
      "cell_type": "markdown",
      "source": [
        "#### helper function to generate text\n",
        "\n",
        "- The `@retry` decorator helps you to retry the API call if it fails.\n",
        "- We set the temperature to 0.0 so that the model returns the same output (completion) if given the same input (the prompt)."
      ],
      "metadata": {
        "id": "QQCQ3yCfFx5w"
      }
    },
    {
      "cell_type": "code",
      "source": [
        "from google.api_core import retry\n",
        "@retry.Retry()\n",
        "def generate_text(prompt,\n",
        "                  model=model_bison,\n",
        "                  temperature=0.0):\n",
        "    return palm.generate_text(prompt=prompt,\n",
        "                              model=model,\n",
        "                              temperature=temperature)"
      ],
      "metadata": {
        "id": "P45qSjJnFwhF"
      },
      "execution_count": 10,
      "outputs": []
    },
    {
      "cell_type": "markdown",
      "source": [
        "#### Ask the LLM how to write some code"
      ],
      "metadata": {
        "id": "9006bMgmF5b1"
      }
    },
    {
      "cell_type": "code",
      "source": [
        "prompt = \"How to build physical Stamina?\"\n",
        "completion = generate_text(prompt)"
      ],
      "metadata": {
        "id": "nkHnyci8F1Rg"
      },
      "execution_count": 11,
      "outputs": []
    },
    {
      "cell_type": "code",
      "source": [
        "print(completion.result)"
      ],
      "metadata": {
        "colab": {
          "base_uri": "https://localhost:8080/"
        },
        "id": "N4Efe5JtF-ZL",
        "outputId": "03a70b07-8543-4fbf-9584-a2c3048b19a3"
      },
      "execution_count": 12,
      "outputs": [
        {
          "output_type": "stream",
          "name": "stdout",
          "text": [
            "* **Get regular exercise.** This is the most important thing you can do to build your physical stamina. Aim for at least 30 minutes of moderate-intensity exercise most days of the week.\n",
            "* **Start slowly and gradually increase your intensity and duration.** Don't try to do too much too soon, or you'll risk getting injured. Start with a moderate-intensity activity that you enjoy, and gradually increase the intensity and duration over time.\n",
            "* **Listen to your body.** If you're feeling tired or sore, take a rest day. Don't push yourself too hard, or you'll risk getting injured.\n",
            "* **Hydrate properly.** Staying hydrated is essential for maintaining your physical stamina. Drink plenty of water throughout the day, especially before, during, and after exercise.\n",
            "* **Eat a healthy diet.** Eating a healthy diet will give you the energy you need to exercise and build your stamina. Make sure to eat plenty of fruits, vegetables, and whole grains.\n",
            "* **Get enough sleep.** Sleep is essential for your overall health and well-being. Getting enough sleep will help you recover from your workouts and improve your physical stamina.\n",
            "\n",
            "Here are some specific exercises that can help you build your physical stamina:\n",
            "\n",
            "* **Walking:** Walking is a great way to get started building your physical stamina. It's a low-impact activity that can be done at any intensity level. Start by walking for 30 minutes most days of the week, and gradually increase the duration and intensity over time.\n",
            "* **Running:** Running is a great way to improve your cardiovascular fitness and build your stamina. Start by running for 10 minutes most days of the week, and gradually increase the duration and intensity over time.\n",
            "* **Swimming:** Swimming is a great way to build your overall fitness and stamina. It's a low-impact activity that can be done at any intensity level. Start by swimming for 20 minutes most days of the week, and gradually increase the duration and intensity over time.\n",
            "* **Cycling:** Cycling is a great way to get some cardio and build your stamina. It's a low-impact activity that can be done at any intensity level. Start by cycling for 30 minutes most days of the week, and gradually increase the duration and intensity over time.\n",
            "* **Hiking:** Hiking is a great way to get some exercise and enjoy the outdoors. It's a great way to build your cardiovascular fitness and stamina. Start by hiking for 1 hour most days of the week, and gradually increase the duration and intensity over time.\n"
          ]
        }
      ]
    },
    {
      "cell_type": "code",
      "source": [],
      "metadata": {
        "id": "M9lAy494GAKb"
      },
      "execution_count": null,
      "outputs": []
    },
    {
      "cell_type": "markdown",
      "source": [
        "- Tip: The words \"show me\" tends to encourage the PaLM LLM to give more details and explanations compared to if you were to ask \"write code to ...\""
      ],
      "metadata": {
        "id": "ksEJrL9tGDfG"
      }
    },
    {
      "cell_type": "code",
      "source": [
        "prompt = \"write code to iterate across a list in Python\"\n",
        "completion = generate_text(prompt)"
      ],
      "metadata": {
        "id": "KTQoj0d0GEvR"
      },
      "execution_count": 13,
      "outputs": []
    },
    {
      "cell_type": "code",
      "source": [
        "print(completion.result)"
      ],
      "metadata": {
        "colab": {
          "base_uri": "https://localhost:8080/"
        },
        "id": "oFQum--cGNFB",
        "outputId": "10069364-9379-414f-f1a9-aa914be14ac7"
      },
      "execution_count": 14,
      "outputs": [
        {
          "output_type": "stream",
          "name": "stdout",
          "text": [
            "```python\n",
            "# Iterate across a list in Python\n",
            "\n",
            "# Create a list\n",
            "list = [\"apple\", \"banana\", \"cherry\"]\n",
            "\n",
            "# Iterate over the list using a for loop\n",
            "for item in list:\n",
            "    print(item)\n",
            "\n",
            "# Output:\n",
            "# apple\n",
            "# banana\n",
            "# cherry\n",
            "```\n"
          ]
        }
      ]
    },
    {
      "cell_type": "markdown",
      "source": [
        "#### Try out the code\n",
        "- Try copy-pasting some of the generated code and running it in the notebook.\n",
        "- Remember to test out the LLM-generated code and debug it make sure it works as intended."
      ],
      "metadata": {
        "id": "T4-Nfd7MGQp3"
      }
    },
    {
      "cell_type": "code",
      "source": [
        "# paste the LLM's code here\n",
        "\n",
        "# Create a list\n",
        "list = [\"apple\", \"banana\", \"cherry\"]\n",
        "\n",
        "# Iterate over the list using a for loop\n",
        "for item in list:\n",
        "    print(item)\n"
      ],
      "metadata": {
        "colab": {
          "base_uri": "https://localhost:8080/"
        },
        "id": "QaypLyArGRIR",
        "outputId": "493afafa-62ae-46cd-9a61-b6c1724f7702"
      },
      "execution_count": 15,
      "outputs": [
        {
          "output_type": "stream",
          "name": "stdout",
          "text": [
            "apple\n",
            "banana\n",
            "cherry\n"
          ]
        }
      ]
    },
    {
      "cell_type": "markdown",
      "source": [
        "#### Try asking your own coding question"
      ],
      "metadata": {
        "id": "HmQTpDkHGZHh"
      }
    },
    {
      "cell_type": "code",
      "source": [
        "# Modify the prompt with your own question\n",
        "prompt = \"Show me how to write a basic Deep Learning Artificial Neural Network for Classification problem\"\n",
        "\n",
        "completion = generate_text(prompt)"
      ],
      "metadata": {
        "id": "kIRgoK0VGUFU"
      },
      "execution_count": 18,
      "outputs": []
    },
    {
      "cell_type": "code",
      "source": [
        "print(completion.result)"
      ],
      "metadata": {
        "colab": {
          "base_uri": "https://localhost:8080/"
        },
        "id": "V1msodzlGh3w",
        "outputId": "a87e9843-12f8-41dc-9364-ca4d51317617"
      },
      "execution_count": 19,
      "outputs": [
        {
          "output_type": "stream",
          "name": "stdout",
          "text": [
            "## Step 1: Import the necessary libraries\n",
            "\n",
            "```python\n",
            "import tensorflow as tf\n",
            "from tensorflow.keras.models import Sequential\n",
            "from tensorflow.keras.layers import Dense\n",
            "```\n",
            "\n",
            "## Step 2: Define the model\n",
            "\n",
            "```python\n",
            "model = Sequential()\n",
            "model.add(Dense(10, activation='relu'))\n",
            "model.add(Dense(10, activation='relu'))\n",
            "model.add(Dense(1, activation='sigmoid'))\n",
            "```\n",
            "\n",
            "## Step 3: Compile the model\n",
            "\n",
            "```python\n",
            "model.compile(optimizer='adam', loss='binary_crossentropy', metrics=['accuracy'])\n",
            "```\n",
            "\n",
            "## Step 4: Train the model\n",
            "\n",
            "```python\n",
            "model.fit(X_train, y_train, epochs=10)\n",
            "```\n",
            "\n",
            "## Step 5: Evaluate the model\n",
            "\n",
            "```python\n",
            "model.evaluate(X_test, y_test)\n",
            "```\n",
            "\n",
            "## Step 6: Make predictions\n",
            "\n",
            "```python\n",
            "y_pred = model.predict(X_test)\n",
            "```\n",
            "\n",
            "## Step 7: Visualize the results\n",
            "\n",
            "```python\n",
            "plt.plot(y_test, y_pred, 'o')\n",
            "plt.xlabel('True Values')\n",
            "plt.ylabel('Predicted Values')\n",
            "plt.show()\n"
          ]
        }
      ]
    },
    {
      "cell_type": "code",
      "source": [
        "# Modify the prompt with your own question\n",
        "prompt = \"Guide me on transcendental Meditation\"\n",
        "\n",
        "completion = generate_text(prompt)"
      ],
      "metadata": {
        "id": "Hb4znuIaGjs7"
      },
      "execution_count": 20,
      "outputs": []
    },
    {
      "cell_type": "code",
      "source": [
        "print(completion.result)"
      ],
      "metadata": {
        "colab": {
          "base_uri": "https://localhost:8080/"
        },
        "id": "v9EMryXWG4T_",
        "outputId": "6457669d-4863-48ce-c0e4-c4a50a101659"
      },
      "execution_count": 21,
      "outputs": [
        {
          "output_type": "stream",
          "name": "stdout",
          "text": [
            "**Transcendental Meditation** (TM) is a simple, natural technique that helps you to experience deep rest and inner peace. It is a powerful tool for stress reduction, improving focus and concentration, and enhancing creativity and intuition.\n",
            "\n",
            "**How does it work?**\n",
            "\n",
            "TM is based on the principle that the mind has two states: the waking state and the transcendental state. The waking state is the state of mind that we are in most of the time, when we are engaged in activities and interacting with the world around us. The transcendental state is a state of deep rest and inner peace, beyond thought and emotion.\n",
            "\n",
            "When you practice TM, you sit in a comfortable position with your eyes closed and focus on a mantra, a simple sound or word. As you repeat your mantra, you will gradually experience a deep state of rest and relaxation. In this state, your mind is still and quiet, and you are able to experience a sense of inner peace and well-being.\n",
            "\n",
            "**What are the benefits of TM?**\n",
            "\n",
            "TM has been shown to have a wide range of benefits, including:\n",
            "\n",
            "* Reduced stress and anxiety\n",
            "* Improved focus and concentration\n",
            "* Enhanced creativity and intuition\n",
            "* Increased energy and vitality\n",
            "* Improved sleep\n",
            "* Reduced pain\n",
            "* Improved overall health and well-being\n",
            "\n",
            "**How do I learn TM?**\n",
            "\n",
            "TM is taught by certified TM teachers. The course consists of a series of individual lessons, during which you will learn the basic principles of TM and how to practice it. The course also includes a personal evaluation to help you determine the best mantra for you.\n",
            "\n",
            "**Where can I learn TM?**\n",
            "\n",
            "TM is taught in over 100 countries around the world. You can find a list of TM teachers and centers near you on the TM website.\n",
            "\n",
            "**Is TM safe?**\n",
            "\n",
            "TM is a safe and natural technique. It has been practiced by millions of people for over 50 years and has been shown to have no negative side effects.\n",
            "\n",
            "**What if I'm not sure if TM is right for me?**\n",
            "\n",
            "If you're not sure if TM is right for you, you can always talk to a TM teacher. They can answer any questions you have and help you decide if TM is right for you.\n",
            "\n",
            "**I'm ready to learn TM!**\n",
            "\n",
            "If you're ready to learn TM, you can find a list of TM teachers and centers near you on the TM website.\n"
          ]
        }
      ]
    },
    {
      "cell_type": "code",
      "source": [],
      "metadata": {
        "id": "r94ZPov9G6RC"
      },
      "execution_count": null,
      "outputs": []
    }
  ]
}